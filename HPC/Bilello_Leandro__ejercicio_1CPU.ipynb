{
  "nbformat": 4,
  "nbformat_minor": 0,
  "metadata": {
    "colab": {
      "name": "Bilello_Leandro__ejercicio_1CPU.ipynb",
      "provenance": [],
      "authorship_tag": "ABX9TyPVPqteyWZ1swYACHU/6JLH",
      "include_colab_link": true
    },
    "kernelspec": {
      "name": "python3",
      "display_name": "Python 3"
    },
    "accelerator": "GPU"
  },
  "cells": [
    {
      "cell_type": "markdown",
      "metadata": {
        "id": "view-in-github",
        "colab_type": "text"
      },
      "source": [
        "<a href=\"https://colab.research.google.com/github/labilello/EA2-SOA/blob/master/HPC/Bilello_Leandro__ejercicio_1CPU.ipynb\" target=\"_parent\"><img src=\"https://colab.research.google.com/assets/colab-badge.svg\" alt=\"Open In Colab\"/></a>"
      ]
    },
    {
      "cell_type": "markdown",
      "metadata": {
        "id": "1gdlwxnYSIAG"
      },
      "source": [
        "# 1. Introducción"
      ]
    },
    {
      "cell_type": "markdown",
      "metadata": {
        "id": "5NBhsFhNSJ2E"
      },
      "source": [
        "El ejemplo desarrollado en este notebook, calcula la suma de sucesivos valores alojados en un array. "
      ]
    },
    {
      "cell_type": "markdown",
      "metadata": {
        "id": "BKjnqAmzSM49"
      },
      "source": [
        "# 2. Armado del Ambiente\n",
        "\n",
        "No se requiere la ejecución de ningun modulo previo."
      ]
    },
    {
      "cell_type": "markdown",
      "metadata": {
        "id": "x3w5hWS_Spnn"
      },
      "source": [
        "# 3 Desarrallo"
      ]
    },
    {
      "cell_type": "markdown",
      "metadata": {
        "id": "873-8msBS07t"
      },
      "source": [
        "A continuacion se encuentra el algoritmo de rotación de imágen para CPU. Ejecute el modulo a continuacion para ver los resultados."
      ]
    },
    {
      "cell_type": "code",
      "metadata": {
        "cellView": "code",
        "id": "1Y5ALaLZ5zHp"
      },
      "source": [
        "# --------------------------------------------\n",
        "#@title 3.1 Parámetros de ejecución { vertical-output: true }\n",
        "cant_elements = 256 #@param {type: \"number\"}\n",
        "# --------------------------------------------\n",
        "\n",
        "from datetime import datetime\n",
        "import numpy\n",
        "tiempo_total = datetime.now()\n",
        "\n",
        "# --------------------------------------------\n",
        "# Definición de función que transforma el tiempo en  milisegundos \n",
        "tiempo_en_ms = lambda dt:(dt.days * 24 * 60 * 60 + dt.seconds) * 1000 + dt.microseconds / 1000.0\n",
        "\n",
        "# CPU - Defino la memoria de los vectores en cpu.\n",
        "x_cpu = numpy.random.randn( cant_elements )\n",
        "x_cpu = x_cpu.astype( numpy.int32 )\n",
        "\n",
        "r_cpu = numpy.array( [0] )\n",
        "r_cpu = r_cpu.astype( numpy.int32 )\n",
        "\n",
        "tiempo_gpu = datetime.now()\n",
        "\n",
        "for i in range(0, cant_elements):\n",
        "  r_cpu[0] += x_cpu[i]\n",
        "\n",
        "tiempo_gpu = datetime.now() - tiempo_gpu\n",
        "\n",
        "# CPU - Informo el resutlado.\n",
        "#print( \"------------------------------------\")\n",
        "#print( \"X: \" )\n",
        "#print( x_cpu )\n",
        "#print( \"------------------------------------\")\n",
        "#print( \"R: \" )\n",
        "#print( r_cpu )\n",
        "\n",
        "\n",
        "tiempo_total = datetime.now() - tiempo_total\n",
        "\n",
        "print( \"Cantidad de elementos: \", cant_elements )\n",
        "print(\"Tiempo CPU: \", tiempo_en_ms( tiempo_total ), \"[ms]\" )\n",
        "print(\"Tiempo GPU: \", tiempo_en_ms( tiempo_gpu   ), \"[ms]\" )"
      ],
      "execution_count": null,
      "outputs": []
    },
    {
      "cell_type": "markdown",
      "metadata": {
        "id": "iZr2S7SPS31F"
      },
      "source": [
        "# 4. Tabla de Pasos"
      ]
    },
    {
      "cell_type": "markdown",
      "metadata": {
        "id": "SfUQ7CmPS7Gm"
      },
      "source": [
        "# 5. Conclusión"
      ]
    },
    {
      "cell_type": "markdown",
      "metadata": {
        "id": "e5UvJWqjS9ml"
      },
      "source": [
        "# 6. Bibliografía"
      ]
    }
  ]
}