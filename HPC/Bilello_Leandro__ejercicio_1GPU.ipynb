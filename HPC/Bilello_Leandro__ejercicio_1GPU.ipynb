{
  "nbformat": 4,
  "nbformat_minor": 0,
  "metadata": {
    "colab": {
      "name": "Bilello_Leandro__ejercicio_1GPU.ipynb",
      "provenance": [],
      "authorship_tag": "ABX9TyNgFOrUtq2Yi5rCDR3AnNfL",
      "include_colab_link": true
    },
    "kernelspec": {
      "name": "python3",
      "display_name": "Python 3"
    },
    "accelerator": "GPU"
  },
  "cells": [
    {
      "cell_type": "markdown",
      "metadata": {
        "id": "view-in-github",
        "colab_type": "text"
      },
      "source": [
        "<a href=\"https://colab.research.google.com/github/labilello/EA2-SOA/blob/master/HPC/Bilello_Leandro__ejercicio_1GPU.ipynb\" target=\"_parent\"><img src=\"https://colab.research.google.com/assets/colab-badge.svg\" alt=\"Open In Colab\"/></a>"
      ]
    },
    {
      "cell_type": "markdown",
      "metadata": {
        "id": "1gdlwxnYSIAG"
      },
      "source": [
        "# 1. Introducción\n",
        "\n",
        "El ejemplo desarrollado en este notebook, rota una imágen parametrizada 180 grados. El calculo de la rotación para una imagen parametrizada siguiendo la logica:\n",
        "\n",
        "**destino[anchoImg - 1 - x][altoImg - 1 - y] <- origen[x][y]**\n",
        "\n",
        "\n",
        "Donde \"x\" refiere a una columna de la matriz e \"y\" refiere una fila de la misma."
      ]
    },
    {
      "cell_type": "markdown",
      "metadata": {
        "id": "5NBhsFhNSJ2E"
      },
      "source": [
        ""
      ]
    },
    {
      "cell_type": "markdown",
      "metadata": {
        "id": "BKjnqAmzSM49"
      },
      "source": [
        "# 2. Armado del Ambiente\n",
        "\n",
        "Solicitamos al sistema la instalación de \"pycuda\", el modulo para python encargado de facilitar al programador el acceso a CUDA de Nvidia."
      ]
    },
    {
      "cell_type": "code",
      "metadata": {
        "id": "6mcuZkAb5t7Q"
      },
      "source": [
        "!pip install pycuda"
      ],
      "execution_count": null,
      "outputs": []
    },
    {
      "cell_type": "markdown",
      "metadata": {
        "id": "x3w5hWS_Spnn"
      },
      "source": [
        "# 3 Desarrallo\n",
        "A continuacion se encuentra el algoritmo de rotación de imágen para GPU. Ejecute el modulo a continuacion para ver los resultados."
      ]
    },
    {
      "cell_type": "code",
      "metadata": {
        "cellView": "code",
        "id": "1Y5ALaLZ5zHp"
      },
      "source": [
        "# --------------------------------------------\n",
        "#@title 3.1 Parámetros de ejecución { vertical-output: true }\n",
        "cant_elements = 256 #@param {type: \"number\"}\n",
        "# --------------------------------------------\n",
        "\n",
        "from datetime import datetime\n",
        "import pycuda.driver as cuda\n",
        "import pycuda.autoinit\n",
        "from pycuda.compiler import SourceModule\n",
        "import numpy\n",
        "\n",
        "\n",
        "tiempo_total = datetime.now()\n",
        "# --------------------------------------------\n",
        "# Definición de función que transforma el tiempo en  milisegundos \n",
        "tiempo_en_ms = lambda dt:(dt.days * 24 * 60 * 60 + dt.seconds) * 1000 + dt.microseconds / 1000.0\n",
        "\n",
        "\n",
        "# CPU - Defino la memoria de los vectores en cpu.\n",
        "x_cpu = numpy.random.randn( cant_elements )\n",
        "x_cpu = x_cpu.astype( numpy.int32 )\n",
        "\n",
        "#tiempo_ini_cpu = datetime.now()\n",
        "\n",
        "r_cpu = numpy.array( [0] )\n",
        "r_cpu = r_cpu.astype( numpy.int32 )\n",
        "\n",
        "# CPU - reservo la memoria GPU.\n",
        "x_gpu = cuda.mem_alloc( x_cpu.nbytes )\n",
        "r_gpu = cuda.mem_alloc( r_cpu.nbytes )\n",
        "\n",
        "# GPU - Copio la memoria al GPU.\n",
        "cuda.memcpy_htod( x_gpu, x_cpu )\n",
        "cuda.memcpy_htod( r_gpu, r_cpu )\n",
        "\n",
        "# CPU - Defino la función kernel que ejecutará en GPU.\n",
        "module = SourceModule(\"\"\"\n",
        "__global__ void reduce0(int n, int *input, int *output) {\n",
        "\n",
        "  unsigned int tid = threadIdx.x;\n",
        "  unsigned int i = blockIdx.x * blockDim.x + threadIdx.x;\n",
        "\n",
        "  __syncthreads();\n",
        "\n",
        "  for (unsigned int j = 1; j < n; j *= 2) {\n",
        "    if (tid % (2 * j) == 0) {\n",
        "    input[tid] += input[tid + j];\n",
        "  }\n",
        "\n",
        "  __syncthreads();\n",
        "  }\n",
        "\n",
        "  if (tid == 0) *output = input[0];\n",
        "}\n",
        "\"\"\") \n",
        "# CPU - Genero la función kernel.\n",
        "kernel = module.get_function(\"reduce0\")\n",
        "\n",
        "\n",
        "dim_hilo = 1024\n",
        "dim_bloque = numpy.int( (cant_elements+dim_hilo-1) / dim_hilo )\n",
        "print( \"Thread x: \", dim_hilo, \", Bloque x:\", dim_bloque )\n",
        "\n",
        "tiempo_gpu = datetime.now()\n",
        "\n",
        "#TODO: Ojo, con los tipos de las variables en el kernel.\n",
        "kernel( numpy.int32(cant_elements), x_gpu, r_gpu, block=( dim_hilo, 1, 1 ),grid=(dim_bloque, 1,1) )\n",
        "\n",
        "tiempo_gpu = datetime.now() - tiempo_gpu\n",
        "\n",
        "# GPU - Copio el resultado desde la memoria GPU.\n",
        "cuda.memcpy_dtoh( r_cpu, r_gpu )\n",
        "\n",
        "# CPU - Informo el resutlado.\n",
        "#print( \"------------------------------------\")\n",
        "#print( \"X: \" )\n",
        "#print( x_cpu )\n",
        "#print( \"------------------------------------\")\n",
        "#print( \"R: \" )\n",
        "#print( r_cpu )\n",
        "\n",
        "\n",
        "tiempo_total = datetime.now() - tiempo_total\n",
        "\n",
        "print( \"Cantidad de elementos: \", cant_elements )\n",
        "print( \"Thread x: \", dim_hilo, \", Bloque x:\", dim_bloque )\n",
        "print(\"Tiempo CPU: \", tiempo_en_ms( tiempo_total ), \"[ms]\" )\n",
        "print(\"Tiempo GPU: \", tiempo_en_ms( tiempo_gpu   ), \"[ms]\" )"
      ],
      "execution_count": null,
      "outputs": []
    },
    {
      "cell_type": "markdown",
      "metadata": {
        "id": "iZr2S7SPS31F"
      },
      "source": [
        "# 4. Tabla de Pasos"
      ]
    },
    {
      "cell_type": "markdown",
      "metadata": {
        "id": "SfUQ7CmPS7Gm"
      },
      "source": [
        "# 5. Conclusión"
      ]
    },
    {
      "cell_type": "markdown",
      "metadata": {
        "id": "e5UvJWqjS9ml"
      },
      "source": [
        "# 6. Bibliografía"
      ]
    }
  ]
}