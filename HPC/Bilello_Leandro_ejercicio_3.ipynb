{
  "nbformat": 4,
  "nbformat_minor": 0,
  "metadata": {
    "colab": {
      "name": "Bilello_Leandro_ejercicio_3.ipynb",
      "provenance": [],
      "collapsed_sections": [],
      "authorship_tag": "ABX9TyNyjhU+yhmtywiiokXSoVZ+",
      "include_colab_link": true
    },
    "kernelspec": {
      "name": "python3",
      "display_name": "Python 3"
    },
    "accelerator": "GPU"
  },
  "cells": [
    {
      "cell_type": "markdown",
      "metadata": {
        "id": "view-in-github",
        "colab_type": "text"
      },
      "source": [
        "<a href=\"https://colab.research.google.com/github/labilello/EA2-SOA/blob/master/HPC/Bilello_Leandro_ejercicio_3.ipynb\" target=\"_parent\"><img src=\"https://colab.research.google.com/assets/colab-badge.svg\" alt=\"Open In Colab\"/></a>"
      ]
    },
    {
      "cell_type": "markdown",
      "metadata": {
        "id": "k1qBuzW2qJzw"
      },
      "source": [
        "# 1. Introducción\n",
        "\n",
        "En este ejemplo, se desarrolla un algoritmo tanto para CPU como para GPU de la aproximación de una funcion mediante el teorema de Taylor. El algoritmo planteado por el famoso matematico tiene la siguiente definicion:\n",
        "\n",
        "![Sin título.png](data:image/png;base64,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)"
      ]
    },
    {
      "cell_type": "markdown",
      "metadata": {
        "id": "A9pYP79dqSnd"
      },
      "source": [
        "# 2. Armado del Ambiente"
      ]
    },
    {
      "cell_type": "markdown",
      "metadata": {
        "id": "l5YaYHlwUuRE"
      },
      "source": [
        "Debe configurar el entorno de ejecución como GPU.\n",
        "\n"
      ]
    },
    {
      "cell_type": "markdown",
      "metadata": {
        "id": "bAyi56hTqbYF"
      },
      "source": [
        "# 3. Desarrollo"
      ]
    },
    {
      "cell_type": "code",
      "metadata": {
        "colab": {
          "base_uri": "https://localhost:8080/"
        },
        "cellView": "form",
        "id": "dpuEfuqlWE2e",
        "outputId": "2de7a284-58c7-4979-c14a-5556e10926f8"
      },
      "source": [
        "# --------------------------------------------\n",
        "#@title 3.1 Parámetros de ejecución { vertical-output: true }\n",
        "\n",
        "x0 =   1 #@param {type: \"number\"}\n",
        "ev_in = 0.08 #@param {type: \"number\"}\n",
        "func = 'cos(x)*sin(x)+100*x' #@param {type: \"string\"}\n",
        "grado =   100 #@param {type: \"number\"}\n",
        "# --------------------------------------------\n",
        "%tensorflow_version 2.x\n",
        "import tensorflow as tf\n",
        "import timeit\n",
        "from sympy import Derivative, diff, simplify\n",
        "from sympy import *\n",
        "\n",
        "\n",
        "device_name = tf.test.gpu_device_name()\n",
        "if device_name != '/device:GPU:0':\n",
        "  print(\n",
        "      '\\n\\nUsted no ha ejecutado el modulo de \"Armado de Ambiente\" o no ha configurado el entorno de ejecución como GPU')\n",
        "  raise SystemError('Dispositivo GPU no encontrado')\n",
        "\n",
        "\n",
        "x = symbols('x')\n",
        "fx = eval( func )\n",
        "\n",
        "\n",
        "tiempo_algoritmo = datetime.now()\n",
        "\n",
        "coef = []\n",
        "\n",
        "def cpu():\n",
        "  with tf.device('/cpu:0'):\n",
        "    coef.append( fx.subs(x, x0) )\n",
        "    result = fx.subs(x, x0)\n",
        "\n",
        "    for i in range(1, grado):\n",
        "      derivada = ( Derivative(fx, x, i).doit() ) # Derivo la fc \n",
        "      derivada_ev = derivada.subs(x, x0) # Evaluo la derivada en x0\n",
        "      factor = ( derivada_ev * ( x - x0 )**i ) / factorial(i) # Genero un factor de Taylor con los resultados obtenidos\n",
        "      factor_ev = factor.subs(x, ev_in) # Evaluo el factor de Taylor en el valor a aproximar\n",
        "      result += factor_ev\n",
        "\n",
        "    return result\n",
        "\n",
        "def gpu():\n",
        "  with tf.device('/device:GPU:0'):\n",
        "    coef.append( fx.subs(x, x0) )\n",
        "    result = fx.subs(x, x0)\n",
        "\n",
        "    for i in range(1, grado):\n",
        "      derivada = ( Derivative(fx, x, i).doit() ) # Derivo la fc \n",
        "      derivada_ev = derivada.subs(x, x0) # Evaluo la derivada en x0\n",
        "      factor = ( derivada_ev * ( x - x0 )**i ) / factorial(i) # Genero un factor de Taylor con los resultados obtenidos\n",
        "      factor_ev = factor.subs(x, ev_in) # Evaluo el factor de Taylor en el valor a aproximar\n",
        "      result += factor_ev\n",
        "\n",
        "    return result\n",
        "  \n",
        "print( \"RESULTADO TAYLOR CPU: \", cpu())\n",
        "print( \"RESULTADO TAYLOR GPU: \", gpu())\n",
        "\n",
        "\n",
        "print('CPU (s):')\n",
        "cpu_time = timeit.timeit('cpu()', number=10, setup=\"from __main__ import cpu\")\n",
        "print(cpu_time)\n",
        "print('GPU (s):')\n",
        "gpu_time = timeit.timeit('gpu()', number=10, setup=\"from __main__ import gpu\")\n",
        "print(gpu_time)\n",
        "print('Diferencia GPU vs CPU: {}x'.format(int(cpu_time/gpu_time)))"
      ],
      "execution_count": 18,
      "outputs": [
        {
          "output_type": "stream",
          "text": [
            "RESULTADO TAYLOR CPU:  -0.481991498076224*cos(1)**2 - 0.26596387560898*sin(1)*cos(1) + 0.481991498076224*sin(1)**2 + 8.0\n",
            "RESULTADO TAYLOR GPU:  -0.481991498076224*cos(1)**2 - 0.26596387560898*sin(1)*cos(1) + 0.481991498076224*sin(1)**2 + 8.0\n",
            "CPU (s):\n",
            "2.6103393719999985\n",
            "GPU (s):\n",
            "2.6020934399998623\n",
            "Diferencia GPU vs CPU: 1x\n"
          ],
          "name": "stdout"
        }
      ]
    },
    {
      "cell_type": "markdown",
      "metadata": {
        "id": "gTqIhzfyqfj0"
      },
      "source": [
        "# 4. Tabla de Pasos"
      ]
    },
    {
      "cell_type": "markdown",
      "metadata": {
        "id": "93nEF2BZqiVX"
      },
      "source": [
        "# 5. Conclusiones"
      ]
    },
    {
      "cell_type": "markdown",
      "metadata": {
        "id": "_4vLYj5_bHwG"
      },
      "source": [
        "# 6. Bibliografía\n"
      ]
    }
  ]
}